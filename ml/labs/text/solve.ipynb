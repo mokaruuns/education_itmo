{
 "cells": [
  {
   "cell_type": "code",
   "execution_count": 1,
   "id": "initial_id",
   "metadata": {
    "collapsed": true,
    "ExecuteTime": {
     "end_time": "2023-09-17T17:53:43.275217Z",
     "start_time": "2023-09-17T17:53:43.263106Z"
    }
   },
   "outputs": [],
   "source": [
    "import random\n",
    "\n",
    "from utils.preprocess import load\n",
    "from utils.markov_chain import MarkovChain"
   ]
  },
  {
   "cell_type": "code",
   "execution_count": 2,
   "outputs": [],
   "source": [
    "lines = load('texts/voina_i_mir.txt')\n",
    "chain = MarkovChain(seqlen=6)"
   ],
   "metadata": {
    "collapsed": false,
    "ExecuteTime": {
     "end_time": "2023-09-17T17:53:44.291927Z",
     "start_time": "2023-09-17T17:53:43.276823Z"
    }
   },
   "id": "de5d7330ba935532"
  },
  {
   "cell_type": "code",
   "execution_count": 3,
   "outputs": [],
   "source": [
    "chain.train(lines)"
   ],
   "metadata": {
    "collapsed": false,
    "ExecuteTime": {
     "end_time": "2023-09-17T17:53:48.078851Z",
     "start_time": "2023-09-17T17:53:44.374874Z"
    }
   },
   "id": "302dd658e0134863"
  },
  {
   "cell_type": "code",
   "execution_count": 4,
   "outputs": [],
   "source": [
    "prefix = \"в голове \"\n",
    "evals = [(i, chain.inference(prefix=prefix)) for i in range(20)]"
   ],
   "metadata": {
    "collapsed": false,
    "ExecuteTime": {
     "end_time": "2023-09-17T17:53:48.085073Z",
     "start_time": "2023-09-17T17:53:48.081784Z"
    }
   },
   "id": "69f9721e21cb9a68"
  },
  {
   "cell_type": "code",
   "execution_count": 5,
   "outputs": [
    {
     "data": {
      "text/plain": "[(0, 'в голове и.'),\n (1, 'в голове одному из кабинет.'),\n (2, 'в голове вся над русская войны.'),\n (3, 'в голове одно и только смеявшись от устройство и житейское.'),\n (4, 'в голове в ножны.'),\n (5, 'в голове ее.'),\n (6, 'в голове приходя с пасущимся выставил денисова особенно'),\n (7, 'в голове его в темно синий с краснея шеей.'),\n (8, 'в голове одной поезде.'),\n (9, 'в голове ясно слышишь.'),\n (10, 'в голове петербурге.'),\n (11, 'в голове его в.'),\n (12, 'в голове его всю ночь чтобы империю и французом мог так я'),\n (13, 'в голове от.'),\n (14, 'в голове пети.'),\n (15, 'в голове одной босой.'),\n (16, 'в голове пети.'),\n (17, 'в голове становилась себе ее по горючьми слезы и тяжестями'),\n (18, 'в голове одной мысли прежде было и не может быть осрамить.'),\n (19, 'в голове его горя грустного министр иностранившегося')]"
     },
     "execution_count": 5,
     "metadata": {},
     "output_type": "execute_result"
    }
   ],
   "source": [
    "evals"
   ],
   "metadata": {
    "collapsed": false,
    "ExecuteTime": {
     "end_time": "2023-09-17T17:53:48.097246Z",
     "start_time": "2023-09-17T17:53:48.089626Z"
    }
   },
   "id": "68b5f9454b31f442"
  },
  {
   "cell_type": "code",
   "execution_count": 6,
   "outputs": [],
   "source": [
    "from utils.preprocess import alphabet\n",
    "import numpy as np"
   ],
   "metadata": {
    "collapsed": false,
    "ExecuteTime": {
     "end_time": "2023-09-17T17:53:48.228170Z",
     "start_time": "2023-09-17T17:53:48.094461Z"
    }
   },
   "id": "3e6da1a37ddbb5d6"
  },
  {
   "cell_type": "code",
   "execution_count": 7,
   "outputs": [],
   "source": [
    "char2index, index2char = alphabet(lines)\n",
    "text = ' '.join(lines)\n",
    "symbols_len = len(char2index)"
   ],
   "metadata": {
    "collapsed": false,
    "ExecuteTime": {
     "end_time": "2023-09-17T17:53:48.369756Z",
     "start_time": "2023-09-17T17:53:48.368019Z"
    }
   },
   "id": "c2ab6cee4d5b00f5"
  },
  {
   "cell_type": "code",
   "execution_count": 8,
   "outputs": [
    {
     "data": {
      "text/plain": "63239"
     },
     "execution_count": 8,
     "metadata": {},
     "output_type": "execute_result"
    }
   ],
   "source": [
    "len(lines)"
   ],
   "metadata": {
    "collapsed": false,
    "ExecuteTime": {
     "end_time": "2023-09-17T17:53:48.377352Z",
     "start_time": "2023-09-17T17:53:48.370059Z"
    }
   },
   "id": "64e29cf832efe23c"
  },
  {
   "cell_type": "code",
   "execution_count": 9,
   "outputs": [],
   "source": [
    "SEQ_LEN = 30\n",
    "WINDOW_STEP = 1"
   ],
   "metadata": {
    "collapsed": false,
    "ExecuteTime": {
     "end_time": "2023-09-17T17:53:48.384207Z",
     "start_time": "2023-09-17T17:53:48.376609Z"
    }
   },
   "id": "d5416c1983069080"
  },
  {
   "cell_type": "code",
   "execution_count": 10,
   "outputs": [],
   "source": [
    "inputs = []\n",
    "targets = []\n",
    "\n",
    "for i in range(0, len(text) - SEQ_LEN, WINDOW_STEP):\n",
    "    inputs.append(text[i: i + SEQ_LEN])\n",
    "    targets.append(text[i + SEQ_LEN])"
   ],
   "metadata": {
    "collapsed": false,
    "ExecuteTime": {
     "end_time": "2023-09-17T17:53:50.038819Z",
     "start_time": "2023-09-17T17:53:48.381578Z"
    }
   },
   "id": "a81e6f2d3178d502"
  },
  {
   "cell_type": "code",
   "execution_count": 11,
   "outputs": [],
   "source": [
    "def encode_line(seq):\n",
    "    x = np.zeros((len(seq), symbols_len))\n",
    "    # encode sequence\n",
    "    for j, char in enumerate(seq):\n",
    "        x[j, char2index[char]] = 1\n",
    "    return list(x)\n",
    "\n",
    "def decode_line(seq):\n",
    "    result = []\n",
    "    for j in seq:\n",
    "        char_index = np.argmax(j)\n",
    "        char = index2char[char_index]\n",
    "        result.append(char)\n",
    "    result = ''.join(result)\n",
    "    return result"
   ],
   "metadata": {
    "collapsed": false,
    "ExecuteTime": {
     "end_time": "2023-09-17T17:53:50.046181Z",
     "start_time": "2023-09-17T17:53:50.041217Z"
    }
   },
   "id": "abc0c577a4ae46da"
  },
  {
   "cell_type": "code",
   "execution_count": 12,
   "outputs": [
    {
     "data": {
      "text/plain": "'кес'"
     },
     "execution_count": 12,
     "metadata": {},
     "output_type": "execute_result"
    }
   ],
   "source": [
    "decode_line(encode_line('кес'))"
   ],
   "metadata": {
    "collapsed": false,
    "ExecuteTime": {
     "end_time": "2023-09-17T17:53:50.932923Z",
     "start_time": "2023-09-17T17:53:50.928210Z"
    }
   },
   "id": "a69144257c34cdca"
  },
  {
   "cell_type": "code",
   "execution_count": 13,
   "outputs": [],
   "source": [
    "X = []\n",
    "Y = []\n",
    "\n",
    "for i, seq in enumerate(inputs):\n",
    "    x = encode_line(seq)\n",
    "    y = encode_line(targets[i])[0]\n",
    "    X.append(x)\n",
    "    Y.append(y)"
   ],
   "metadata": {
    "collapsed": false,
    "ExecuteTime": {
     "end_time": "2023-09-17T17:55:35.409275Z",
     "start_time": "2023-09-17T17:53:53.911405Z"
    }
   },
   "id": "de6597ce2bd7ae31"
  },
  {
   "cell_type": "code",
   "execution_count": 14,
   "outputs": [],
   "source": [
    "all_data = list(zip(X, Y))[:400000]\n",
    "# all_data = random.choices(all_data, k=400000)\n",
    "X, Y = list(zip(*all_data))\n",
    "X, Y = np.array(X), np.array(Y)"
   ],
   "metadata": {
    "collapsed": false,
    "ExecuteTime": {
     "end_time": "2023-09-17T17:57:56.901731Z",
     "start_time": "2023-09-17T17:57:47.930178Z"
    }
   },
   "id": "1f2015b77700d5ee"
  },
  {
   "cell_type": "code",
   "execution_count": 15,
   "outputs": [],
   "source": [
    "from sklearn.model_selection import train_test_split\n",
    "\n",
    "X_train, X_test, y_train, y_test = train_test_split(X, Y, test_size=0.2)"
   ],
   "metadata": {
    "collapsed": false,
    "ExecuteTime": {
     "end_time": "2023-09-17T17:58:03.113702Z",
     "start_time": "2023-09-17T17:57:56.912790Z"
    }
   },
   "id": "31de92f3e23166e"
  },
  {
   "cell_type": "code",
   "execution_count": 16,
   "outputs": [
    {
     "data": {
      "text/plain": "((400000, 30, 34), (400000, 34))"
     },
     "execution_count": 16,
     "metadata": {},
     "output_type": "execute_result"
    }
   ],
   "source": [
    "X.shape, Y.shape"
   ],
   "metadata": {
    "collapsed": false,
    "ExecuteTime": {
     "end_time": "2023-09-17T17:58:03.316796Z",
     "start_time": "2023-09-17T17:58:03.132261Z"
    }
   },
   "id": "c6fcd8be8fab9ea5"
  },
  {
   "cell_type": "code",
   "execution_count": 17,
   "outputs": [
    {
     "data": {
      "text/plain": "((320000, 30, 34), 320000)"
     },
     "execution_count": 17,
     "metadata": {},
     "output_type": "execute_result"
    }
   ],
   "source": [
    "X_train.shape, len(y_train)"
   ],
   "metadata": {
    "collapsed": false,
    "ExecuteTime": {
     "end_time": "2023-09-17T17:58:03.336362Z",
     "start_time": "2023-09-17T17:58:03.142217Z"
    }
   },
   "id": "687f2ff6c1284c32"
  },
  {
   "cell_type": "code",
   "execution_count": 18,
   "outputs": [
    {
     "name": "stderr",
     "output_type": "stream",
     "text": [
      "2023-09-17 20:58:06.688225: I tensorflow/core/platform/cpu_feature_guard.cc:182] This TensorFlow binary is optimized to use available CPU instructions in performance-critical operations.\n",
      "To enable the following instructions: AVX2 FMA, in other operations, rebuild TensorFlow with the appropriate compiler flags.\n"
     ]
    }
   ],
   "source": [
    "import tensorflow as tf\n",
    "lstm = tf.keras.models.Sequential()\n",
    "lstm.add(\n",
    "    tf.keras.layers.LSTM(\n",
    "        128,\n",
    "        input_shape=(SEQ_LEN, symbols_len),\n",
    "        dropout=0.4,\n",
    "        recurrent_dropout=0.4\n",
    "    )\n",
    ")\n",
    "lstm.add(tf.keras.layers.Dense(symbols_len, activation='softmax'))\n",
    "lstm.compile(loss='categorical_crossentropy', optimizer='adam', metrics=['accuracy'])\n",
    "     "
   ],
   "metadata": {
    "collapsed": false,
    "ExecuteTime": {
     "end_time": "2023-09-17T17:58:10.936100Z",
     "start_time": "2023-09-17T17:58:03.149614Z"
    }
   },
   "id": "56eb746400a7c5b9"
  },
  {
   "cell_type": "code",
   "execution_count": null,
   "outputs": [
    {
     "name": "stdout",
     "output_type": "stream",
     "text": [
      "Epoch 1/20\n",
      "10000/10000 [==============================] - 209s 21ms/step - loss: 2.5211 - accuracy: 0.2662 - val_loss: 2.1956 - val_accuracy: 0.3406\n",
      "Epoch 2/20\n",
      "10000/10000 [==============================] - 179s 18ms/step - loss: 2.2677 - accuracy: 0.3219 - val_loss: 2.0585 - val_accuracy: 0.3737\n",
      "Epoch 3/20\n",
      "10000/10000 [==============================] - 193s 19ms/step - loss: 2.1807 - accuracy: 0.3429 - val_loss: 1.9816 - val_accuracy: 0.3923\n",
      "Epoch 4/20\n",
      " 6927/10000 [===================>..........] - ETA: 58s - loss: 2.1352 - accuracy: 0.3536"
     ]
    }
   ],
   "source": [
    "lstm.fit(X_train, y_train, \n",
    "        epochs=20, \n",
    "        validation_data=(X_test, y_test),\n",
    "        use_multiprocessing=True,\n",
    "        workers=-1\n",
    ")"
   ],
   "metadata": {
    "collapsed": false,
    "is_executing": true,
    "ExecuteTime": {
     "start_time": "2023-09-17T17:58:10.937952Z"
    }
   },
   "id": "4181c787cf386c21"
  },
  {
   "cell_type": "code",
   "execution_count": null,
   "outputs": [],
   "source": [
    "def sample(predictions):\n",
    "    predictions = np.log(predictions)\n",
    "    exp_predictions = np.exp(predictions)\n",
    "    predictions = exp_predictions / np.sum(exp_predictions)\n",
    "    probabilities = np.random.multinomial(1, predictions, 1)\n",
    "    return np.argmax(probabilities)\n",
    "\n",
    "def lstm_predict(model, string, max_len=None):\n",
    "    print(string, end=\"\")\n",
    "    result = list(string)\n",
    "    string = encode_line(string)\n",
    "    while True:\n",
    "        prediction = model.predict(np.array([string]))\n",
    "        # ind = sample(prediction[0])\n",
    "        # ind = np.argmax(prediction[0])\n",
    "        # char = index2char[ind]\n",
    "        char = random.choices(index2char, weights=prediction[0])[0]\n",
    "        string.append(encode_line(char)[0])\n",
    "        result.append(char)\n",
    "        if (char == '.' and not max_len) or (max_len and len(result) > max_len):\n",
    "            break\n",
    "        \n",
    "    return ''.join(result)"
   ],
   "metadata": {
    "collapsed": false,
    "is_executing": true
   },
   "id": "11901c336711f79b"
  },
  {
   "cell_type": "code",
   "execution_count": null,
   "outputs": [],
   "source": [
    "example = \"вместо тысящи слов о дружбе н \"\n",
    "lstm_predict(lstm, example)"
   ],
   "metadata": {
    "collapsed": false,
    "is_executing": true
   },
   "id": "eecbdb253f7d4998"
  },
  {
   "cell_type": "code",
   "execution_count": null,
   "outputs": [],
   "source": [
    "prefixes = [\n",
    "    \"жить во \",\n",
    "    \"по лицу \",\n",
    "    \"смысл жизни в том \",\n",
    "    \"фактически \",\n",
    "    \"спросил я \"\n",
    "]"
   ],
   "metadata": {
    "collapsed": false,
    "is_executing": true
   },
   "id": "46daf850b9af9822"
  },
  {
   "cell_type": "code",
   "execution_count": null,
   "outputs": [],
   "source": [
    "result = []\n",
    "for n, pref in enumerate(prefixes):\n",
    "    result.append((\n",
    "        n,\n",
    "        (\"markov: \" + chain.inference(pref)),\n",
    "        (\"lstm: \" + lstm_predict(lstm, pref))\n",
    "    ))\n",
    "    # print(\"markov:\", chain.inference(pref, max_length=80))\n",
    "    # print(\"lstm:\", lstm_predict(lstm, pref))"
   ],
   "metadata": {
    "collapsed": false,
    "is_executing": true
   },
   "id": "255cab4472fde1c8"
  },
  {
   "cell_type": "code",
   "execution_count": null,
   "outputs": [],
   "source": [
    "for t in result:\n",
    "    print(t[0])\n",
    "    print(t[1])\n",
    "    print(t[2])"
   ],
   "metadata": {
    "collapsed": false,
    "is_executing": true
   },
   "id": "afe1e50c7b61d2f4"
  },
  {
   "cell_type": "code",
   "execution_count": null,
   "outputs": [],
   "source": [
    "lstm_predict(lstm, 'мне нравится как говорят киты ', max_len=300)"
   ],
   "metadata": {
    "collapsed": false,
    "is_executing": true
   },
   "id": "d161548a00c5ca7a"
  },
  {
   "cell_type": "code",
   "execution_count": null,
   "outputs": [],
   "source": [],
   "metadata": {
    "collapsed": false
   },
   "id": "c700cd1411e2b03f"
  },
  {
   "cell_type": "code",
   "execution_count": null,
   "outputs": [],
   "source": [],
   "metadata": {
    "collapsed": false
   },
   "id": "ad01de3c2f7a42cd"
  }
 ],
 "metadata": {
  "kernelspec": {
   "display_name": "Python 3",
   "language": "python",
   "name": "python3"
  },
  "language_info": {
   "codemirror_mode": {
    "name": "ipython",
    "version": 2
   },
   "file_extension": ".py",
   "mimetype": "text/x-python",
   "name": "python",
   "nbconvert_exporter": "python",
   "pygments_lexer": "ipython2",
   "version": "2.7.6"
  }
 },
 "nbformat": 4,
 "nbformat_minor": 5
}

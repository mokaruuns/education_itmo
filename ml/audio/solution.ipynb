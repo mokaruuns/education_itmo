{
 "cells": [
  {
   "cell_type": "code",
   "execution_count": 68,
   "id": "initial_id",
   "metadata": {
    "collapsed": true,
    "ExecuteTime": {
     "end_time": "2023-09-20T18:53:16.537069Z",
     "start_time": "2023-09-20T18:53:16.527175Z"
    }
   },
   "outputs": [],
   "source": [
    "import glob\n",
    "\n",
    "import librosa\n",
    "import numpy as np\n",
    "import pandas as pd\n",
    "import matplotlib.pyplot as plt\n",
    "import tensorflow as tf\n",
    "import IPython\n",
    "\n",
    "from keras.models import Sequential\n",
    "from keras.layers import Conv1D, MaxPooling1D\n",
    "from keras.layers import Flatten, Dense, Dropout\n",
    "from sklearn.model_selection import train_test_split"
   ]
  },
  {
   "cell_type": "code",
   "execution_count": 69,
   "outputs": [
    {
     "name": "stdout",
     "output_type": "stream",
     "text": [
      "Skipping, found downloaded files in \"./bird-song-data-set\" (use force=True to force download)\n"
     ]
    }
   ],
   "source": [
    "import opendatasets as od\n",
    "# token 362de83c625279a01f8399c58a63abe8\n",
    "od.download(\"https://www.kaggle.com/vinayshanbhag/bird-song-data-set\")"
   ],
   "metadata": {
    "collapsed": false,
    "ExecuteTime": {
     "end_time": "2023-09-20T18:53:16.847473Z",
     "start_time": "2023-09-20T18:53:16.841746Z"
    }
   },
   "id": "1f79375a578afd3b"
  },
  {
   "cell_type": "code",
   "execution_count": 70,
   "outputs": [
    {
     "data": {
      "text/plain": "          id       genus      species subspecies               name  \\\n3273  480032   Melospiza      melodia        NaN       Song Sparrow   \n345   332644  Thryomanes     bewickii        NaN      Bewick's Wren   \n3539  363141   Melospiza      melodia        NaN       Song Sparrow   \n5009  233122  Cardinalis   cardinalis   superbus  Northern Cardinal   \n2823  177384      Turdus  migratorius        NaN     American Robin   \n\n                                     recordist        country  \\\n3273                          Thomas G. Graves  United States   \n345                                Aidan Place  United States   \n3539                             Frank Lambert  United States   \n5009                        David Vander Pluym  United States   \n2823  Jorge de Leon Cardozo and Susan Hochgraf  United States   \n\n                                               location  latitude  longitude  \\\n3273  Montana de Oro State Park, Los Osos, San Luis ...   35.2557  -120.8872   \n345     Pinnacles National Park, San Benito, California   36.4836  -121.1659   \n3539       Yampa River Botanic Park, Routt Co, Colorado   40.4725  -106.8311   \n5009          Santa Maria River, La Paz County, Arizona   34.3007  -113.4803   \n2823  Trask Road, Willington, Tolland County, Connec...   41.8817   -72.2826   \n\n     altitude sound_type                   source_url  \\\n3273       30       song  //www.xeno-canto.org/480032   \n345       320       song  //www.xeno-canto.org/332644   \n3539     2100       song  //www.xeno-canto.org/363141   \n5009      380       song  //www.xeno-canto.org/233122   \n2823      160       song  //www.xeno-canto.org/177384   \n\n                                           license   time        date  \\\n3273  //creativecommons.org/licenses/by-nc-sa/4.0/   7:21  2019-06-06   \n345   //creativecommons.org/licenses/by-nc-sa/4.0/  10:00  2016-08-13   \n3539  //creativecommons.org/licenses/by-nc-nd/4.0/  09:55  2015-04-25   \n5009  //creativecommons.org/licenses/by-nc-sa/4.0/  07:45  2015-03-18   \n2823  //creativecommons.org/licenses/by-nc-sa/4.0/  18:00  2014-05-05   \n\n                                                remarks      filename  \n3273  Bird about 10 feet up on shrub/tree, about 30 ...  480032-4.wav  \n345                                                 NaN  332644-5.wav  \n3539                                                NaN  363141-4.wav  \n5009  Bird was singing from mesquite edge of riparia...  233122-0.wav  \n2823  Bird in top of tall deciduous tree late aftern...  177384-3.wav  ",
      "text/html": "<div>\n<style scoped>\n    .dataframe tbody tr th:only-of-type {\n        vertical-align: middle;\n    }\n\n    .dataframe tbody tr th {\n        vertical-align: top;\n    }\n\n    .dataframe thead th {\n        text-align: right;\n    }\n</style>\n<table border=\"1\" class=\"dataframe\">\n  <thead>\n    <tr style=\"text-align: right;\">\n      <th></th>\n      <th>id</th>\n      <th>genus</th>\n      <th>species</th>\n      <th>subspecies</th>\n      <th>name</th>\n      <th>recordist</th>\n      <th>country</th>\n      <th>location</th>\n      <th>latitude</th>\n      <th>longitude</th>\n      <th>altitude</th>\n      <th>sound_type</th>\n      <th>source_url</th>\n      <th>license</th>\n      <th>time</th>\n      <th>date</th>\n      <th>remarks</th>\n      <th>filename</th>\n    </tr>\n  </thead>\n  <tbody>\n    <tr>\n      <th>3273</th>\n      <td>480032</td>\n      <td>Melospiza</td>\n      <td>melodia</td>\n      <td>NaN</td>\n      <td>Song Sparrow</td>\n      <td>Thomas G. Graves</td>\n      <td>United States</td>\n      <td>Montana de Oro State Park, Los Osos, San Luis ...</td>\n      <td>35.2557</td>\n      <td>-120.8872</td>\n      <td>30</td>\n      <td>song</td>\n      <td>//www.xeno-canto.org/480032</td>\n      <td>//creativecommons.org/licenses/by-nc-sa/4.0/</td>\n      <td>7:21</td>\n      <td>2019-06-06</td>\n      <td>Bird about 10 feet up on shrub/tree, about 30 ...</td>\n      <td>480032-4.wav</td>\n    </tr>\n    <tr>\n      <th>345</th>\n      <td>332644</td>\n      <td>Thryomanes</td>\n      <td>bewickii</td>\n      <td>NaN</td>\n      <td>Bewick's Wren</td>\n      <td>Aidan Place</td>\n      <td>United States</td>\n      <td>Pinnacles National Park, San Benito, California</td>\n      <td>36.4836</td>\n      <td>-121.1659</td>\n      <td>320</td>\n      <td>song</td>\n      <td>//www.xeno-canto.org/332644</td>\n      <td>//creativecommons.org/licenses/by-nc-sa/4.0/</td>\n      <td>10:00</td>\n      <td>2016-08-13</td>\n      <td>NaN</td>\n      <td>332644-5.wav</td>\n    </tr>\n    <tr>\n      <th>3539</th>\n      <td>363141</td>\n      <td>Melospiza</td>\n      <td>melodia</td>\n      <td>NaN</td>\n      <td>Song Sparrow</td>\n      <td>Frank Lambert</td>\n      <td>United States</td>\n      <td>Yampa River Botanic Park, Routt Co, Colorado</td>\n      <td>40.4725</td>\n      <td>-106.8311</td>\n      <td>2100</td>\n      <td>song</td>\n      <td>//www.xeno-canto.org/363141</td>\n      <td>//creativecommons.org/licenses/by-nc-nd/4.0/</td>\n      <td>09:55</td>\n      <td>2015-04-25</td>\n      <td>NaN</td>\n      <td>363141-4.wav</td>\n    </tr>\n    <tr>\n      <th>5009</th>\n      <td>233122</td>\n      <td>Cardinalis</td>\n      <td>cardinalis</td>\n      <td>superbus</td>\n      <td>Northern Cardinal</td>\n      <td>David Vander Pluym</td>\n      <td>United States</td>\n      <td>Santa Maria River, La Paz County, Arizona</td>\n      <td>34.3007</td>\n      <td>-113.4803</td>\n      <td>380</td>\n      <td>song</td>\n      <td>//www.xeno-canto.org/233122</td>\n      <td>//creativecommons.org/licenses/by-nc-sa/4.0/</td>\n      <td>07:45</td>\n      <td>2015-03-18</td>\n      <td>Bird was singing from mesquite edge of riparia...</td>\n      <td>233122-0.wav</td>\n    </tr>\n    <tr>\n      <th>2823</th>\n      <td>177384</td>\n      <td>Turdus</td>\n      <td>migratorius</td>\n      <td>NaN</td>\n      <td>American Robin</td>\n      <td>Jorge de Leon Cardozo and Susan Hochgraf</td>\n      <td>United States</td>\n      <td>Trask Road, Willington, Tolland County, Connec...</td>\n      <td>41.8817</td>\n      <td>-72.2826</td>\n      <td>160</td>\n      <td>song</td>\n      <td>//www.xeno-canto.org/177384</td>\n      <td>//creativecommons.org/licenses/by-nc-sa/4.0/</td>\n      <td>18:00</td>\n      <td>2014-05-05</td>\n      <td>Bird in top of tall deciduous tree late aftern...</td>\n      <td>177384-3.wav</td>\n    </tr>\n  </tbody>\n</table>\n</div>"
     },
     "execution_count": 70,
     "metadata": {},
     "output_type": "execute_result"
    }
   ],
   "source": [
    "df = pd.read_csv('bird-song-data-set/bird_songs_metadata.csv')\n",
    "df.sample(5)"
   ],
   "metadata": {
    "collapsed": false,
    "ExecuteTime": {
     "end_time": "2023-09-20T18:53:17.272230Z",
     "start_time": "2023-09-20T18:53:17.237003Z"
    }
   },
   "id": "c16d445395e22e37"
  },
  {
   "cell_type": "code",
   "execution_count": 71,
   "outputs": [],
   "source": [
    "directory = 'bird-song-data-set/wavfiles/'"
   ],
   "metadata": {
    "collapsed": false,
    "ExecuteTime": {
     "end_time": "2023-09-20T18:53:17.281895Z",
     "start_time": "2023-09-20T18:53:17.271907Z"
    }
   },
   "id": "893c05eeb2821501"
  },
  {
   "cell_type": "code",
   "execution_count": 72,
   "outputs": [],
   "source": [
    "df = df[['name', 'filename']]\n",
    "df['filename'] = df['filename'].apply(lambda filename: directory + filename)"
   ],
   "metadata": {
    "collapsed": false,
    "ExecuteTime": {
     "end_time": "2023-09-20T18:53:17.283964Z",
     "start_time": "2023-09-20T18:53:17.280769Z"
    }
   },
   "id": "104419d29177e576"
  },
  {
   "cell_type": "code",
   "execution_count": 73,
   "outputs": [
    {
     "data": {
      "text/plain": "                      name                                   filename\n502          Bewick's Wren  bird-song-data-set/wavfiles/217854-10.wav\n3600          Song Sparrow   bird-song-data-set/wavfiles/325378-7.wav\n1792  Northern Mockingbird   bird-song-data-set/wavfiles/170052-3.wav\n3091        American Robin   bird-song-data-set/wavfiles/13602-14.wav\n1433  Northern Mockingbird   bird-song-data-set/wavfiles/321932-6.wav",
      "text/html": "<div>\n<style scoped>\n    .dataframe tbody tr th:only-of-type {\n        vertical-align: middle;\n    }\n\n    .dataframe tbody tr th {\n        vertical-align: top;\n    }\n\n    .dataframe thead th {\n        text-align: right;\n    }\n</style>\n<table border=\"1\" class=\"dataframe\">\n  <thead>\n    <tr style=\"text-align: right;\">\n      <th></th>\n      <th>name</th>\n      <th>filename</th>\n    </tr>\n  </thead>\n  <tbody>\n    <tr>\n      <th>502</th>\n      <td>Bewick's Wren</td>\n      <td>bird-song-data-set/wavfiles/217854-10.wav</td>\n    </tr>\n    <tr>\n      <th>3600</th>\n      <td>Song Sparrow</td>\n      <td>bird-song-data-set/wavfiles/325378-7.wav</td>\n    </tr>\n    <tr>\n      <th>1792</th>\n      <td>Northern Mockingbird</td>\n      <td>bird-song-data-set/wavfiles/170052-3.wav</td>\n    </tr>\n    <tr>\n      <th>3091</th>\n      <td>American Robin</td>\n      <td>bird-song-data-set/wavfiles/13602-14.wav</td>\n    </tr>\n    <tr>\n      <th>1433</th>\n      <td>Northern Mockingbird</td>\n      <td>bird-song-data-set/wavfiles/321932-6.wav</td>\n    </tr>\n  </tbody>\n</table>\n</div>"
     },
     "execution_count": 73,
     "metadata": {},
     "output_type": "execute_result"
    }
   ],
   "source": [
    "df.sample(5)"
   ],
   "metadata": {
    "collapsed": false,
    "ExecuteTime": {
     "end_time": "2023-09-20T18:53:17.398622Z",
     "start_time": "2023-09-20T18:53:17.362080Z"
    }
   },
   "id": "cedf58e24df03700"
  },
  {
   "cell_type": "code",
   "execution_count": 74,
   "outputs": [],
   "source": [
    "def get_spectrogram(filepath=None, y=None, sr=None):\n",
    "    if filepath:\n",
    "        y, sr = librosa.load(filepath)\n",
    "    ms = librosa.feature.melspectrogram(y=y, sr=sr)\n",
    "    log_ms = librosa.power_to_db(ms, ref=np.max)\n",
    "    return log_ms"
   ],
   "metadata": {
    "collapsed": false,
    "ExecuteTime": {
     "end_time": "2023-09-20T18:53:19.213710Z",
     "start_time": "2023-09-20T18:53:19.199290Z"
    }
   },
   "id": "fc4896cb5ec4bd27"
  },
  {
   "cell_type": "code",
   "execution_count": 75,
   "outputs": [],
   "source": [
    "def get_(filepath=None, y=None, sr=None):\n",
    "    if filepath:\n",
    "        y, sr = librosa.load(filepath)\n",
    "    ms = librosa.feature.melspectrogram(y=y, sr=sr)\n",
    "    log_ms = librosa.power_to_db(ms, ref=np.max)\n",
    "    return log_ms"
   ],
   "metadata": {
    "collapsed": false,
    "ExecuteTime": {
     "end_time": "2023-09-20T18:53:19.918827Z",
     "start_time": "2023-09-20T18:53:19.906601Z"
    }
   },
   "id": "349f5b665d1dd6ce"
  },
  {
   "cell_type": "code",
   "execution_count": 76,
   "outputs": [
    {
     "data": {
      "text/plain": "                      name                                   filename  \\\n2524        American Robin   bird-song-data-set/wavfiles/351863-9.wav   \n1521  Northern Mockingbird   bird-song-data-set/wavfiles/321905-4.wav   \n984   Northern Mockingbird  bird-song-data-set/wavfiles/542156-12.wav   \n414          Bewick's Wren  bird-song-data-set/wavfiles/323974-11.wav   \n5352     Northern Cardinal    bird-song-data-set/wavfiles/18344-7.wav   \n\n                                            spectrogram  \n2524  [[-80.0, -80.0, -80.0, -80.0, -80.0, -80.0, -8...  \n1521  [[-80.0, -80.0, -80.0, -80.0, -80.0, -80.0, -8...  \n984   [[-53.809685, -52.35324, -55.054916, -56.72566...  \n414   [[-37.597366, -43.477203, -69.8914, -71.036255...  \n5352  [[-21.779522, -20.557974, -23.31921, -26.48536...  ",
      "text/html": "<div>\n<style scoped>\n    .dataframe tbody tr th:only-of-type {\n        vertical-align: middle;\n    }\n\n    .dataframe tbody tr th {\n        vertical-align: top;\n    }\n\n    .dataframe thead th {\n        text-align: right;\n    }\n</style>\n<table border=\"1\" class=\"dataframe\">\n  <thead>\n    <tr style=\"text-align: right;\">\n      <th></th>\n      <th>name</th>\n      <th>filename</th>\n      <th>spectrogram</th>\n    </tr>\n  </thead>\n  <tbody>\n    <tr>\n      <th>2524</th>\n      <td>American Robin</td>\n      <td>bird-song-data-set/wavfiles/351863-9.wav</td>\n      <td>[[-80.0, -80.0, -80.0, -80.0, -80.0, -80.0, -8...</td>\n    </tr>\n    <tr>\n      <th>1521</th>\n      <td>Northern Mockingbird</td>\n      <td>bird-song-data-set/wavfiles/321905-4.wav</td>\n      <td>[[-80.0, -80.0, -80.0, -80.0, -80.0, -80.0, -8...</td>\n    </tr>\n    <tr>\n      <th>984</th>\n      <td>Northern Mockingbird</td>\n      <td>bird-song-data-set/wavfiles/542156-12.wav</td>\n      <td>[[-53.809685, -52.35324, -55.054916, -56.72566...</td>\n    </tr>\n    <tr>\n      <th>414</th>\n      <td>Bewick's Wren</td>\n      <td>bird-song-data-set/wavfiles/323974-11.wav</td>\n      <td>[[-37.597366, -43.477203, -69.8914, -71.036255...</td>\n    </tr>\n    <tr>\n      <th>5352</th>\n      <td>Northern Cardinal</td>\n      <td>bird-song-data-set/wavfiles/18344-7.wav</td>\n      <td>[[-21.779522, -20.557974, -23.31921, -26.48536...</td>\n    </tr>\n  </tbody>\n</table>\n</div>"
     },
     "execution_count": 76,
     "metadata": {},
     "output_type": "execute_result"
    }
   ],
   "source": [
    "df['spectrogram'] = df['filename'].apply(get_spectrogram)\n",
    "df.sample(5)"
   ],
   "metadata": {
    "collapsed": false,
    "ExecuteTime": {
     "end_time": "2023-09-20T18:53:56.411522Z",
     "start_time": "2023-09-20T18:53:20.248162Z"
    }
   },
   "id": "3bc9da8f1af05887"
  },
  {
   "cell_type": "code",
   "execution_count": 79,
   "outputs": [],
   "source": [
    "X = df[['spectrogram', 'filename']]\n",
    "y = df['name']\n",
    "x_max = np.max(np.abs(np.array(df['spectrogram'].tolist())))"
   ],
   "metadata": {
    "collapsed": false,
    "ExecuteTime": {
     "end_time": "2023-09-20T18:54:43.440183Z",
     "start_time": "2023-09-20T18:54:42.597792Z"
    }
   },
   "id": "9a02f75a5e37223"
  },
  {
   "cell_type": "code",
   "execution_count": 168,
   "outputs": [],
   "source": [
    "x_train, x_test, y_train, y_test = train_test_split(X, y, test_size=0.2, random_state=42)\n",
    "x_train, x_val, y_train, y_val = train_test_split(x_train, y_train, test_size=0.25, random_state=42)\n"
   ],
   "metadata": {
    "collapsed": false,
    "ExecuteTime": {
     "end_time": "2023-09-20T19:07:46.923018Z",
     "start_time": "2023-09-20T19:07:46.892934Z"
    }
   },
   "id": "ae4facdb3d047191"
  },
  {
   "cell_type": "code",
   "execution_count": 169,
   "outputs": [],
   "source": [
    "def get_important_x_y(x, y):\n",
    "    x_new = x / x_max\n",
    "    x_new = np.array(x_new.to_list())\n",
    "    y_new = pd.get_dummies(np.array(y))\n",
    "    return x_new, y_new"
   ],
   "metadata": {
    "collapsed": false,
    "ExecuteTime": {
     "end_time": "2023-09-20T19:07:48.840137Z",
     "start_time": "2023-09-20T19:07:48.837845Z"
    }
   },
   "id": "5128e4dd8af5e9e"
  },
  {
   "cell_type": "code",
   "execution_count": 170,
   "outputs": [],
   "source": [
    "x_test_files = x_test['filename']"
   ],
   "metadata": {
    "collapsed": false,
    "ExecuteTime": {
     "end_time": "2023-09-20T19:07:48.848584Z",
     "start_time": "2023-09-20T19:07:48.841645Z"
    }
   },
   "id": "64cfcdd521f50a57"
  },
  {
   "cell_type": "code",
   "execution_count": 171,
   "outputs": [
    {
     "name": "stdout",
     "output_type": "stream",
     "text": [
      "(3252, 128, 130) (3252, 5)\n"
     ]
    }
   ],
   "source": [
    "x_train, y_train = get_important_x_y(x_train['spectrogram'], y_train)\n",
    "x_test, y_test = get_important_x_y(x_test['spectrogram'], y_test)\n",
    "x_val, y_val = get_important_x_y(x_val['spectrogram'], y_val)\n",
    "print(x_train.shape, y_train.shape)"
   ],
   "metadata": {
    "collapsed": false,
    "ExecuteTime": {
     "end_time": "2023-09-20T19:07:49.534425Z",
     "start_time": "2023-09-20T19:07:48.846485Z"
    }
   },
   "id": "b997145970782d02"
  },
  {
   "cell_type": "code",
   "execution_count": 173,
   "outputs": [
    {
     "data": {
      "text/plain": "(128, 130)"
     },
     "execution_count": 173,
     "metadata": {},
     "output_type": "execute_result"
    }
   ],
   "source": [
    "input_size = x_train[0].shape\n",
    "input_size"
   ],
   "metadata": {
    "collapsed": false,
    "ExecuteTime": {
     "end_time": "2023-09-20T19:07:58.367813Z",
     "start_time": "2023-09-20T19:07:58.355955Z"
    }
   },
   "id": "743123a3e70f3e17"
  },
  {
   "cell_type": "code",
   "execution_count": 174,
   "outputs": [
    {
     "name": "stdout",
     "output_type": "stream",
     "text": [
      "Model: \"sequential_4\"\n",
      "_________________________________________________________________\n",
      " Layer (type)                Output Shape              Param #   \n",
      "=================================================================\n",
      " conv1d_7 (Conv1D)           (None, 126, 32)           12512     \n",
      "                                                                 \n",
      " max_pooling1d_6 (MaxPooling  (None, 63, 32)           0         \n",
      " 1D)                                                             \n",
      "                                                                 \n",
      " conv1d_8 (Conv1D)           (None, 61, 64)            6208      \n",
      "                                                                 \n",
      " max_pooling1d_7 (MaxPooling  (None, 30, 64)           0         \n",
      " 1D)                                                             \n",
      "                                                                 \n",
      " flatten_3 (Flatten)         (None, 1920)              0         \n",
      "                                                                 \n",
      " dense_6 (Dense)             (None, 128)               245888    \n",
      "                                                                 \n",
      " dense_7 (Dense)             (None, 5)                 645       \n",
      "                                                                 \n",
      "=================================================================\n",
      "Total params: 265,253\n",
      "Trainable params: 265,253\n",
      "Non-trainable params: 0\n",
      "_________________________________________________________________\n"
     ]
    }
   ],
   "source": [
    "model = Sequential()\n",
    "model.add(Conv1D(filters=32, kernel_size=3, activation='relu', input_shape=input_size))\n",
    "model.add(MaxPooling1D(pool_size=2))\n",
    "model.add(Conv1D(filters=64, kernel_size=3, activation='relu'))\n",
    "model.add(MaxPooling1D(pool_size=2))\n",
    "model.add(Flatten())\n",
    "model.add(Dense(128, activation='relu'))\n",
    "model.add(Dense(5, activation='softmax'))\n",
    "\n",
    "model.compile(optimizer='adam', loss='categorical_crossentropy', metrics=['accuracy'])\n",
    "model.summary()"
   ],
   "metadata": {
    "collapsed": false,
    "ExecuteTime": {
     "end_time": "2023-09-20T19:07:59.253172Z",
     "start_time": "2023-09-20T19:07:59.097315Z"
    }
   },
   "id": "65fa8ffd67dfbaf2"
  },
  {
   "cell_type": "code",
   "execution_count": 175,
   "outputs": [
    {
     "name": "stdout",
     "output_type": "stream",
     "text": [
      "Epoch 1/20\n",
      "326/326 [==============================] - 3s 7ms/step - loss: 1.3866 - accuracy: 0.3878 - val_loss: 1.1666 - val_accuracy: 0.4986\n",
      "Epoch 2/20\n",
      "326/326 [==============================] - 2s 7ms/step - loss: 1.0970 - accuracy: 0.5188 - val_loss: 1.0406 - val_accuracy: 0.5677\n",
      "Epoch 3/20\n",
      "326/326 [==============================] - 2s 7ms/step - loss: 0.9566 - accuracy: 0.5886 - val_loss: 0.8798 - val_accuracy: 0.6258\n",
      "Epoch 4/20\n",
      "326/326 [==============================] - 2s 7ms/step - loss: 0.8608 - accuracy: 0.6261 - val_loss: 0.8205 - val_accuracy: 0.6553\n",
      "Epoch 5/20\n",
      "326/326 [==============================] - 2s 7ms/step - loss: 0.7945 - accuracy: 0.6679 - val_loss: 0.7297 - val_accuracy: 0.6866\n",
      "Epoch 6/20\n",
      "326/326 [==============================] - 2s 7ms/step - loss: 0.7432 - accuracy: 0.6903 - val_loss: 0.8041 - val_accuracy: 0.6664\n",
      "Epoch 7/20\n",
      "326/326 [==============================] - 2s 7ms/step - loss: 0.6957 - accuracy: 0.7183 - val_loss: 0.6655 - val_accuracy: 0.7318\n",
      "Epoch 8/20\n",
      "326/326 [==============================] - 2s 8ms/step - loss: 0.6384 - accuracy: 0.7383 - val_loss: 0.6542 - val_accuracy: 0.7355\n",
      "Epoch 9/20\n",
      "326/326 [==============================] - 3s 8ms/step - loss: 0.5910 - accuracy: 0.7632 - val_loss: 0.6558 - val_accuracy: 0.7419\n",
      "Epoch 10/20\n",
      "326/326 [==============================] - 3s 8ms/step - loss: 0.5423 - accuracy: 0.7884 - val_loss: 0.6231 - val_accuracy: 0.7429\n",
      "Epoch 11/20\n",
      "326/326 [==============================] - 2s 7ms/step - loss: 0.4923 - accuracy: 0.8118 - val_loss: 0.6136 - val_accuracy: 0.7429\n",
      "Epoch 12/20\n",
      "326/326 [==============================] - 2s 6ms/step - loss: 0.4507 - accuracy: 0.8204 - val_loss: 0.5657 - val_accuracy: 0.7751\n",
      "Epoch 13/20\n",
      "326/326 [==============================] - 2s 6ms/step - loss: 0.4352 - accuracy: 0.8309 - val_loss: 0.5625 - val_accuracy: 0.7816\n",
      "Epoch 14/20\n",
      "326/326 [==============================] - 2s 6ms/step - loss: 0.3805 - accuracy: 0.8515 - val_loss: 0.5999 - val_accuracy: 0.7567\n",
      "Epoch 15/20\n",
      "326/326 [==============================] - 2s 6ms/step - loss: 0.3686 - accuracy: 0.8546 - val_loss: 0.5712 - val_accuracy: 0.7972\n",
      "Epoch 16/20\n",
      "326/326 [==============================] - 2s 6ms/step - loss: 0.3230 - accuracy: 0.8779 - val_loss: 0.5545 - val_accuracy: 0.7963\n",
      "Epoch 17/20\n",
      "326/326 [==============================] - 2s 6ms/step - loss: 0.2781 - accuracy: 0.9013 - val_loss: 0.5415 - val_accuracy: 0.7871\n",
      "Epoch 18/20\n",
      "326/326 [==============================] - 2s 7ms/step - loss: 0.2486 - accuracy: 0.9114 - val_loss: 0.5132 - val_accuracy: 0.7982\n",
      "Epoch 19/20\n",
      "326/326 [==============================] - 2s 7ms/step - loss: 0.2266 - accuracy: 0.9161 - val_loss: 0.5771 - val_accuracy: 0.8028\n",
      "Epoch 20/20\n",
      "326/326 [==============================] - 2s 6ms/step - loss: 0.2074 - accuracy: 0.9253 - val_loss: 0.5200 - val_accuracy: 0.8046\n"
     ]
    },
    {
     "data": {
      "text/plain": "<keras.callbacks.History at 0x136783e90>"
     },
     "execution_count": 175,
     "metadata": {},
     "output_type": "execute_result"
    }
   ],
   "source": [
    "model.fit(x_train, y_train, epochs=20, batch_size=64, validation_data=(x_val, y_val))"
   ],
   "metadata": {
    "collapsed": false,
    "ExecuteTime": {
     "end_time": "2023-09-20T19:08:45.481100Z",
     "start_time": "2023-09-20T19:07:59.840245Z"
    }
   },
   "id": "1fdcfd6b190d336d"
  },
  {
   "cell_type": "code",
   "execution_count": null,
   "outputs": [],
   "source": [],
   "metadata": {
    "collapsed": false
   },
   "id": "add6f2e4b83015e2"
  }
 ],
 "metadata": {
  "kernelspec": {
   "display_name": "Python 3",
   "language": "python",
   "name": "python3"
  },
  "language_info": {
   "codemirror_mode": {
    "name": "ipython",
    "version": 2
   },
   "file_extension": ".py",
   "mimetype": "text/x-python",
   "name": "python",
   "nbconvert_exporter": "python",
   "pygments_lexer": "ipython2",
   "version": "2.7.6"
  }
 },
 "nbformat": 4,
 "nbformat_minor": 5
}

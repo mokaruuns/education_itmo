{
 "cells": [
  {
   "cell_type": "code",
   "execution_count": 1,
   "id": "initial_id",
   "metadata": {
    "collapsed": true,
    "ExecuteTime": {
     "end_time": "2023-09-21T08:18:58.799784Z",
     "start_time": "2023-09-21T08:18:55.633958Z"
    }
   },
   "outputs": [],
   "source": [
    "import numpy as np\n",
    "import pandas as pd\n",
    "import matplotlib.pyplot as plt\n",
    "from sklearn.feature_extraction.text import TfidfVectorizer\n",
    "from sklearn.model_selection import train_test_split\n",
    "from sklearn.svm import SVC"
   ]
  },
  {
   "cell_type": "code",
   "execution_count": 2,
   "outputs": [
    {
     "data": {
      "text/plain": "     class                                               text\n1535   ham                             Remember on that day..\n1448   ham  Don‘t give a flying monkeys wot they think and...\n2969   ham             Mostly sports type..lyk footbl,crckt..\n2997   ham  They released vday shirts and when u put it on...\n2028   ham  No got new job at bar in airport on satsgettin...",
      "text/html": "<div>\n<style scoped>\n    .dataframe tbody tr th:only-of-type {\n        vertical-align: middle;\n    }\n\n    .dataframe tbody tr th {\n        vertical-align: top;\n    }\n\n    .dataframe thead th {\n        text-align: right;\n    }\n</style>\n<table border=\"1\" class=\"dataframe\">\n  <thead>\n    <tr style=\"text-align: right;\">\n      <th></th>\n      <th>class</th>\n      <th>text</th>\n    </tr>\n  </thead>\n  <tbody>\n    <tr>\n      <th>1535</th>\n      <td>ham</td>\n      <td>Remember on that day..</td>\n    </tr>\n    <tr>\n      <th>1448</th>\n      <td>ham</td>\n      <td>Don‘t give a flying monkeys wot they think and...</td>\n    </tr>\n    <tr>\n      <th>2969</th>\n      <td>ham</td>\n      <td>Mostly sports type..lyk footbl,crckt..</td>\n    </tr>\n    <tr>\n      <th>2997</th>\n      <td>ham</td>\n      <td>They released vday shirts and when u put it on...</td>\n    </tr>\n    <tr>\n      <th>2028</th>\n      <td>ham</td>\n      <td>No got new job at bar in airport on satsgettin...</td>\n    </tr>\n  </tbody>\n</table>\n</div>"
     },
     "execution_count": 2,
     "metadata": {},
     "output_type": "execute_result"
    }
   ],
   "source": [
    "df = pd.read_csv(\"data/SMS.tsv\",sep='\\t')\n",
    "df.sample(5)"
   ],
   "metadata": {
    "collapsed": false,
    "ExecuteTime": {
     "end_time": "2023-09-21T08:18:58.826197Z",
     "start_time": "2023-09-21T08:18:58.775566Z"
    }
   },
   "id": "80e3fc33d4d23151"
  },
  {
   "cell_type": "code",
   "execution_count": 3,
   "outputs": [
    {
     "name": "stdout",
     "output_type": "stream",
     "text": [
      "<class 'pandas.core.frame.DataFrame'>\n",
      "RangeIndex: 5572 entries, 0 to 5571\n",
      "Data columns (total 2 columns):\n",
      " #   Column  Non-Null Count  Dtype \n",
      "---  ------  --------------  ----- \n",
      " 0   class   5572 non-null   object\n",
      " 1   text    5572 non-null   object\n",
      "dtypes: object(2)\n",
      "memory usage: 87.2+ KB\n"
     ]
    }
   ],
   "source": [
    "df.info()"
   ],
   "metadata": {
    "collapsed": false,
    "ExecuteTime": {
     "end_time": "2023-09-21T08:18:58.949076Z",
     "start_time": "2023-09-21T08:18:58.819321Z"
    }
   },
   "id": "b770b5b26da3b723"
  },
  {
   "cell_type": "markdown",
   "source": [
    "## Встроенный метод"
   ],
   "metadata": {
    "collapsed": false
   },
   "id": "8d8185e1406ad072"
  },
  {
   "cell_type": "code",
   "execution_count": 8,
   "outputs": [
    {
     "data": {
      "text/plain": "0       0\n1       0\n2       1\n3       0\n4       0\n       ..\n5567    1\n5568    0\n5569    0\n5570    0\n5571    0\nName: class, Length: 5572, dtype: int64"
     },
     "execution_count": 8,
     "metadata": {},
     "output_type": "execute_result"
    }
   ],
   "source": [
    "vectorizer = TfidfVectorizer()\n",
    "X = vectorizer.fit_transform(df['text'])\n",
    "features = vectorizer.get_feature_names_out()\n",
    "X = X.toarray()\n",
    "y =  df['class'].apply(lambda x: int(x =='spam'))\n",
    "y"
   ],
   "metadata": {
    "collapsed": false,
    "ExecuteTime": {
     "end_time": "2023-09-21T08:20:47.712576Z",
     "start_time": "2023-09-21T08:20:47.543201Z"
    }
   },
   "id": "66c97eb4699546ab"
  },
  {
   "cell_type": "code",
   "execution_count": 9,
   "outputs": [
    {
     "data": {
      "text/plain": "array([[ 0.59654183,  0.69805269, -0.02214067, ..., -0.05848638,\n         0.22478353,  0.        ]])"
     },
     "execution_count": 9,
     "metadata": {},
     "output_type": "execute_result"
    }
   ],
   "source": [
    "x_train, x_test, y_train, y_test = train_test_split(X, y, test_size=0.2, random_state=42)\n",
    "\n",
    "svm = SVC(gamma='auto', kernel='linear')\n",
    "svm.fit(x_train, y_train)\n",
    "coef = svm.coef_\n",
    "coef"
   ],
   "metadata": {
    "collapsed": false,
    "ExecuteTime": {
     "end_time": "2023-09-21T08:21:21.493143Z",
     "start_time": "2023-09-21T08:20:50.121315Z"
    }
   },
   "id": "5e0b5819c3eb97b3"
  },
  {
   "cell_type": "code",
   "execution_count": 10,
   "outputs": [
    {
     "data": {
      "text/plain": "(1, 8713)"
     },
     "execution_count": 10,
     "metadata": {},
     "output_type": "execute_result"
    }
   ],
   "source": [
    "coef.shape"
   ],
   "metadata": {
    "collapsed": false,
    "ExecuteTime": {
     "end_time": "2023-09-21T08:21:21.494842Z",
     "start_time": "2023-09-21T08:21:21.490518Z"
    }
   },
   "id": "b33170e3d6cbb20"
  },
  {
   "cell_type": "code",
   "execution_count": 11,
   "outputs": [
    {
     "data": {
      "text/plain": "[352, 2067, 8596, 8016, 7986]"
     },
     "execution_count": 11,
     "metadata": {},
     "output_type": "execute_result"
    }
   ],
   "source": [
    "idx = [x for _, x in sorted(zip(coef[0], range(0, coef.shape[1])))]\n",
    "idx[-5:]"
   ],
   "metadata": {
    "collapsed": false,
    "ExecuteTime": {
     "end_time": "2023-09-21T08:21:21.534279Z",
     "start_time": "2023-09-21T08:21:21.505626Z"
    }
   },
   "id": "22156a251e08b2df"
  },
  {
   "cell_type": "code",
   "execution_count": 12,
   "outputs": [
    {
     "data": {
      "text/plain": "['10p',\n 'services',\n 'co',\n 'mob',\n 'com',\n 'urgent',\n 'voicemail',\n 'chat',\n 'won',\n 'dating',\n 'prize',\n 'order',\n '88066',\n 'bid',\n '18',\n 'tones',\n 'ac',\n 'call',\n '50',\n 'stop',\n 'text',\n 'service',\n 'mobile',\n 'reply',\n 'ringtone',\n '150p',\n 'claim',\n 'www',\n 'uk',\n 'txt']"
     },
     "execution_count": 12,
     "metadata": {},
     "output_type": "execute_result"
    }
   ],
   "source": [
    "words = [features[i] for i in idx[-30:]]\n",
    "words"
   ],
   "metadata": {
    "collapsed": false,
    "ExecuteTime": {
     "end_time": "2023-09-21T08:21:21.543605Z",
     "start_time": "2023-09-21T08:21:21.513127Z"
    }
   },
   "id": "d46dba0e99123d"
  },
  {
   "cell_type": "markdown",
   "source": [
    "## Метод фильтра"
   ],
   "metadata": {
    "collapsed": false
   },
   "id": "499a14dccaa33710"
  },
  {
   "cell_type": "code",
   "execution_count": 13,
   "outputs": [
    {
     "name": "stdout",
     "output_type": "stream",
     "text": [
      "(8714, 8714)\n"
     ]
    }
   ],
   "source": [
    "df1 = pd.DataFrame(x_train)\n",
    "\n",
    "df1 = df1.assign(y=y_train)\n",
    "\n",
    "corr = df1.corr(method='pearson')\n",
    "print(corr.shape)"
   ],
   "metadata": {
    "collapsed": false,
    "ExecuteTime": {
     "end_time": "2023-09-21T08:33:18.722856Z",
     "start_time": "2023-09-21T08:21:32.726470Z"
    }
   },
   "id": "b4c6aac66611697f"
  },
  {
   "cell_type": "code",
   "execution_count": 21,
   "outputs": [
    {
     "data": {
      "text/plain": "          0         1         2         3         4         5         6  \\\n0  1.000000 -0.002847 -0.000633 -0.000896 -0.000633 -0.000633 -0.000633   \n1 -0.002847  1.000000 -0.001009 -0.001427 -0.001009 -0.001009 -0.001009   \n2 -0.000633 -0.001009  1.000000 -0.000317 -0.000224 -0.000224 -0.000224   \n3 -0.000896 -0.001427 -0.000317  1.000000 -0.000317 -0.000317 -0.000317   \n4 -0.000633 -0.001009 -0.000224 -0.000317  1.000000 -0.000224 -0.000224   \n\n          7   8         9  ...      8704      8705      8706      8707  \\\n0 -0.000633 NaN -0.001552  ... -0.000633 -0.000896 -0.000633 -0.000633   \n1 -0.001009 NaN  0.457104  ... -0.001009 -0.001426 -0.001009 -0.001009   \n2 -0.000224 NaN -0.000550  ... -0.000224 -0.000317 -0.000224 -0.000224   \n3 -0.000317 NaN -0.000777  ... -0.000317 -0.000449 -0.000317 -0.000317   \n4 -0.000224 NaN -0.000550  ... -0.000224 -0.000317 -0.000224 -0.000224   \n\n       8708      8709      8710      8711  8712         y  \n0 -0.000633 -0.000633 -0.000633 -0.000633   NaN  0.015698  \n1 -0.001009 -0.001009 -0.001009 -0.001009   NaN  0.007098  \n2 -0.000224 -0.000224 -0.000224 -0.000224   NaN -0.006607  \n3 -0.000317 -0.000317 -0.000317 -0.000317   NaN -0.009344  \n4 -0.000224 -0.000224 -0.000224 -0.000224   NaN  0.042418  \n\n[5 rows x 8714 columns]",
      "text/html": "<div>\n<style scoped>\n    .dataframe tbody tr th:only-of-type {\n        vertical-align: middle;\n    }\n\n    .dataframe tbody tr th {\n        vertical-align: top;\n    }\n\n    .dataframe thead th {\n        text-align: right;\n    }\n</style>\n<table border=\"1\" class=\"dataframe\">\n  <thead>\n    <tr style=\"text-align: right;\">\n      <th></th>\n      <th>0</th>\n      <th>1</th>\n      <th>2</th>\n      <th>3</th>\n      <th>4</th>\n      <th>5</th>\n      <th>6</th>\n      <th>7</th>\n      <th>8</th>\n      <th>9</th>\n      <th>...</th>\n      <th>8704</th>\n      <th>8705</th>\n      <th>8706</th>\n      <th>8707</th>\n      <th>8708</th>\n      <th>8709</th>\n      <th>8710</th>\n      <th>8711</th>\n      <th>8712</th>\n      <th>y</th>\n    </tr>\n  </thead>\n  <tbody>\n    <tr>\n      <th>0</th>\n      <td>1.000000</td>\n      <td>-0.002847</td>\n      <td>-0.000633</td>\n      <td>-0.000896</td>\n      <td>-0.000633</td>\n      <td>-0.000633</td>\n      <td>-0.000633</td>\n      <td>-0.000633</td>\n      <td>NaN</td>\n      <td>-0.001552</td>\n      <td>...</td>\n      <td>-0.000633</td>\n      <td>-0.000896</td>\n      <td>-0.000633</td>\n      <td>-0.000633</td>\n      <td>-0.000633</td>\n      <td>-0.000633</td>\n      <td>-0.000633</td>\n      <td>-0.000633</td>\n      <td>NaN</td>\n      <td>0.015698</td>\n    </tr>\n    <tr>\n      <th>1</th>\n      <td>-0.002847</td>\n      <td>1.000000</td>\n      <td>-0.001009</td>\n      <td>-0.001427</td>\n      <td>-0.001009</td>\n      <td>-0.001009</td>\n      <td>-0.001009</td>\n      <td>-0.001009</td>\n      <td>NaN</td>\n      <td>0.457104</td>\n      <td>...</td>\n      <td>-0.001009</td>\n      <td>-0.001426</td>\n      <td>-0.001009</td>\n      <td>-0.001009</td>\n      <td>-0.001009</td>\n      <td>-0.001009</td>\n      <td>-0.001009</td>\n      <td>-0.001009</td>\n      <td>NaN</td>\n      <td>0.007098</td>\n    </tr>\n    <tr>\n      <th>2</th>\n      <td>-0.000633</td>\n      <td>-0.001009</td>\n      <td>1.000000</td>\n      <td>-0.000317</td>\n      <td>-0.000224</td>\n      <td>-0.000224</td>\n      <td>-0.000224</td>\n      <td>-0.000224</td>\n      <td>NaN</td>\n      <td>-0.000550</td>\n      <td>...</td>\n      <td>-0.000224</td>\n      <td>-0.000317</td>\n      <td>-0.000224</td>\n      <td>-0.000224</td>\n      <td>-0.000224</td>\n      <td>-0.000224</td>\n      <td>-0.000224</td>\n      <td>-0.000224</td>\n      <td>NaN</td>\n      <td>-0.006607</td>\n    </tr>\n    <tr>\n      <th>3</th>\n      <td>-0.000896</td>\n      <td>-0.001427</td>\n      <td>-0.000317</td>\n      <td>1.000000</td>\n      <td>-0.000317</td>\n      <td>-0.000317</td>\n      <td>-0.000317</td>\n      <td>-0.000317</td>\n      <td>NaN</td>\n      <td>-0.000777</td>\n      <td>...</td>\n      <td>-0.000317</td>\n      <td>-0.000449</td>\n      <td>-0.000317</td>\n      <td>-0.000317</td>\n      <td>-0.000317</td>\n      <td>-0.000317</td>\n      <td>-0.000317</td>\n      <td>-0.000317</td>\n      <td>NaN</td>\n      <td>-0.009344</td>\n    </tr>\n    <tr>\n      <th>4</th>\n      <td>-0.000633</td>\n      <td>-0.001009</td>\n      <td>-0.000224</td>\n      <td>-0.000317</td>\n      <td>1.000000</td>\n      <td>-0.000224</td>\n      <td>-0.000224</td>\n      <td>-0.000224</td>\n      <td>NaN</td>\n      <td>-0.000550</td>\n      <td>...</td>\n      <td>-0.000224</td>\n      <td>-0.000317</td>\n      <td>-0.000224</td>\n      <td>-0.000224</td>\n      <td>-0.000224</td>\n      <td>-0.000224</td>\n      <td>-0.000224</td>\n      <td>-0.000224</td>\n      <td>NaN</td>\n      <td>0.042418</td>\n    </tr>\n  </tbody>\n</table>\n<p>5 rows × 8714 columns</p>\n</div>"
     },
     "execution_count": 21,
     "metadata": {},
     "output_type": "execute_result"
    }
   ],
   "source": [
    "corr.head()"
   ],
   "metadata": {
    "collapsed": false,
    "ExecuteTime": {
     "end_time": "2023-09-21T08:56:35.812984Z",
     "start_time": "2023-09-21T08:56:35.771586Z"
    }
   },
   "id": "6a13b397caf170d0"
  },
  {
   "cell_type": "code",
   "execution_count": 38,
   "outputs": [
    {
     "data": {
      "text/plain": "['accordingly',\n 'brand',\n 'everyone',\n 'express',\n 'face',\n 'fails',\n 'fish',\n 'greet',\n 'her',\n 'irritates',\n 'jerry',\n 'lush',\n 'rub',\n 'sell',\n 'shore',\n 'site',\n 'songs',\n 'staff',\n 'thank',\n 'though',\n 'tickets',\n 'wee',\n 'weight']"
     },
     "execution_count": 38,
     "metadata": {},
     "output_type": "execute_result"
    }
   ],
   "source": [
    "cor_target = np.abs(corr[\"y\"])\n",
    "relevant_features = corr[cor_target>0.05]\n",
    "idx_filter = list(relevant_features.index)\n",
    "words_filter = [features[i] for i in idx_filter[:-1]]\n",
    "words_filter"
   ],
   "metadata": {
    "collapsed": false,
    "ExecuteTime": {
     "end_time": "2023-09-21T09:03:09.222855Z",
     "start_time": "2023-09-21T09:03:09.215064Z"
    }
   },
   "id": "97646ea6b3937a49"
  },
  {
   "cell_type": "markdown",
   "source": [
    "## Библиотечный метод"
   ],
   "metadata": {
    "collapsed": false
   },
   "id": "b7d38d57e13cf7a3"
  },
  {
   "cell_type": "code",
   "execution_count": 39,
   "outputs": [
    {
     "data": {
      "text/plain": "['100',\n '1000',\n '150p',\n '16',\n '18',\n '50',\n '500',\n 'awarded',\n 'call',\n 'cash',\n 'claim',\n 'co',\n 'contact',\n 'cs',\n 'free',\n 'guaranteed',\n 'mobile',\n 'nokia',\n 'prize',\n 'reply',\n 'ringtone',\n 'service',\n 'stop',\n 'tone',\n 'txt',\n 'uk',\n 'urgent',\n 'win',\n 'won',\n 'www']"
     },
     "execution_count": 39,
     "metadata": {},
     "output_type": "execute_result"
    }
   ],
   "source": [
    "from sklearn.feature_selection import chi2\n",
    "from sklearn.feature_selection import SelectKBest\n",
    "select = SelectKBest(chi2, k=30)\n",
    "select.fit_transform(x_train, y_train)\n",
    "idx_select = select.get_support(indices=True)\n",
    "words_select = [features[i] for i in idx_select]\n",
    "words_select"
   ],
   "metadata": {
    "collapsed": false,
    "ExecuteTime": {
     "end_time": "2023-09-21T09:03:57.646317Z",
     "start_time": "2023-09-21T09:03:56.760453Z"
    }
   },
   "id": "4a71c98363ded71"
  },
  {
   "cell_type": "code",
   "execution_count": null,
   "outputs": [],
   "source": [],
   "metadata": {
    "collapsed": false
   },
   "id": "b8cd3bf418a39e80"
  }
 ],
 "metadata": {
  "kernelspec": {
   "display_name": "Python 3",
   "language": "python",
   "name": "python3"
  },
  "language_info": {
   "codemirror_mode": {
    "name": "ipython",
    "version": 2
   },
   "file_extension": ".py",
   "mimetype": "text/x-python",
   "name": "python",
   "nbconvert_exporter": "python",
   "pygments_lexer": "ipython2",
   "version": "2.7.6"
  }
 },
 "nbformat": 4,
 "nbformat_minor": 5
}

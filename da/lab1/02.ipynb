{
 "cells": [
  {
   "cell_type": "markdown",
   "id": "figured-arnold",
   "metadata": {
    "id": "figured-arnold"
   },
   "source": [
    "# 2. Интерполяция кривой\n",
    "\n",
    "Сгенерируйте от 5 до 20 точек со случайными разными координатами (x, y), расположите их на координатной плоскости\n",
    "\n",
    "1. С помощью библиотеки scipy примените один из её [алгоритмов интерполяции](https://docs.scipy.org/doc/scipy/reference/interpolate.html) к сгенерированным данным\n",
    "1. Изучите математический подход метод выбранного алгоритма интерполяции в scipy. Найдите и продемонстрируйте при сдаче реализацию метода в исходном коде библиотеки scipy. Найти можно в [github репозитории проекта](https://github.com/scipy/scipy)\n",
    "1. Выберите среди методов интерполяции в scipy любой другой метод интерполяции (кроме линейной интерполяций). Реализуйте выбранный метод без использования сторонних библиотек. Разрешается использовать numpy для упрощения математичеких вычислений\n",
    "1. Визуализируйте кривую интерполяции библиотечного и вашего алгоритмов с помощью  matplotlib. Сравните качество интерполяции своего и библиотечного методов, объясните разницу в качестве"
   ]
  },
  {
   "cell_type": "code",
   "execution_count": 1,
   "outputs": [],
   "source": [
    "import numpy as np\n",
    "import pandas as pd\n",
    "from matplotlib import pyplot as plt\n",
    "from numpy.polynomial.polynomial import Polynomial\n",
    "from scipy.interpolate import CubicSpline, lagrange"
   ],
   "metadata": {
    "collapsed": false
   }
  },
  {
   "cell_type": "code",
   "execution_count": 14,
   "outputs": [],
   "source": [
    "def get_data():\n",
    "    df = pd.DataFrame(np.random.randint(0, 100, size=(7, 2)), columns=list('XY'))\n",
    "    df = df.sort_values(by=['X'])\n",
    "    x = df.X.tolist()\n",
    "    y = df.Y.tolist()\n",
    "    if len(x) == len(set(x)):\n",
    "        return x, y\n",
    "    else:\n",
    "        return get_data()"
   ],
   "metadata": {
    "collapsed": false
   }
  },
  {
   "cell_type": "code",
   "execution_count": 18,
   "outputs": [],
   "source": [
    "def create_basic_polynomial(x_values, i):\n",
    "    def basic_polynomial(x):\n",
    "        divider = 1\n",
    "        result = 1\n",
    "        for j in range(len(x_values)):\n",
    "            if j != i:\n",
    "                result *= (x - x_values[j])\n",
    "                divider *= (x_values[i] - x_values[j])\n",
    "        return result / divider\n",
    "\n",
    "    return basic_polynomial\n",
    "\n",
    "\n",
    "def create_Lagrange_polynomial(x_values, y_values):\n",
    "    basic_polynomials = []\n",
    "    for i in range(len(x_values)):\n",
    "        basic_polynomials.append(create_basic_polynomial(x_values, i))\n",
    "\n",
    "    def lagrange_polynomial(x):\n",
    "        result = 0\n",
    "        for i in range(len(y_values)):\n",
    "            result += y_values[i] * basic_polynomials[i](x)\n",
    "        return result\n",
    "\n",
    "    return lagrange_polynomial"
   ],
   "metadata": {
    "collapsed": false
   }
  },
  {
   "cell_type": "code",
   "execution_count": 19,
   "id": "o5kkCLNiMm53",
   "metadata": {
    "colab": {
     "base_uri": "https://localhost:8080/",
     "height": 530
    },
    "id": "o5kkCLNiMm53",
    "outputId": "9552cf31-1222-40da-beeb-427c923a6c03"
   },
   "outputs": [],
   "source": [
    "x, y = get_data()\n",
    "lag_pol = create_Lagrange_polynomial(x, y)\n",
    "\n",
    "f = CubicSpline(x, y)\n",
    "x_new = np.linspace(x[0], x[-1], 100)\n",
    "y_new = f(x_new)"
   ]
  },
  {
   "cell_type": "code",
   "execution_count": 21,
   "outputs": [
    {
     "data": {
      "text/plain": "<Figure size 432x288 with 1 Axes>",
      "image/png": "[encoded data removed]"
     },
     "metadata": {
      "needs_background": "light"
     },
     "output_type": "display_data"
    }
   ],
   "source": [
    "poly = lagrange(x, y)\n",
    "plt.title('Interpolation')\n",
    "plt.xlabel('x')\n",
    "plt.ylabel('y')\n",
    "plt.plot(x_new, Polynomial(poly.coef[::-1])(x_new), 'g')\n",
    "# plt.plot(x_new, list(map(lag_pol, x_new)), 'r')\n",
    "plt.plot(x_new, y_new, 'b')\n",
    "plt.plot(x, y, 'ro')\n",
    "plt.show()"
   ],
   "metadata": {
    "collapsed": false
   }
  },
  {
   "cell_type": "code",
   "execution_count": null,
   "outputs": [],
   "source": [],
   "metadata": {
    "collapsed": false
   }
  }
 ],
 "metadata": {
  "kernelspec": {
   "display_name": "Python 3.10.2 64-bit",
   "language": "python",
   "name": "python3"
  },
  "language_info": {
   "codemirror_mode": {
    "name": "ipython",
    "version": 3
   },
   "file_extension": ".py",
   "mimetype": "text/x-python",
   "name": "python",
   "nbconvert_exporter": "python",
   "pygments_lexer": "ipython3",
   "version": "3.10.2"
  },
  "orig_nbformat": 4,
  "vscode": {
   "interpreter": {
    "hash": "15fc00f388f62a32a8de0416057bd7f2ed2e1c6ae37f8b7dfd66c8d0f1bd5353"
   }
  }
 },
 "nbformat": 4,
 "nbformat_minor": 2
}

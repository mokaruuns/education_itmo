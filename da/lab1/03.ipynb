{
 "cells": [
  {
   "cell_type": "markdown",
   "id": "alleged-tooth",
   "metadata": {
    "id": "alleged-tooth"
   },
   "source": [
    "# 3. Быстрая гистограмма\n",
    "\n",
    "Иногда хочется получить дискретное распределение из N колонок. Но пока что для этого у нас есть только plt.hist(), которая тратит много времени на отрисовку графика. Вам предлагается реализовать свою функцию построения дискретного распределения\n",
    "\n",
    "1. Алгоритм должен получать на вход список чисел и количество колонок гистограммы. Возвращать нужно значения столбцов (ось абсцисс гистограммы) и количество значений, принадлежащее столбцу (ось ординат гистограммы). Пример с использованием plt показан ниже, сигнатура функции также показана ниже\n",
    "1. Изучите функцию [plt.bar](https://matplotlib.org/stable/api/_as_gen/matplotlib.pyplot.bar.html). Это такая же гистограмма как plt.hist, но в отличие от hist требуется явно указывать высоту колонок и их название\n",
    "1. С помощью результатов своего алгоритма и plt.bar постройте гистограмму по массиву из 50+ случайных чисел. Графики plt.bar по вашему алгоритму и plt.hist() должны совпадать, что подтвердит корректность работы вашего алгоритма\n",
    "1. Сравните скорость построения распределения по массиву чисел с помощью своего алгоритма и с помощью plt.hist. В jupyter рекомендуется использовать built-in magic commands, а именно timeit. Но можно обойтись и ручными измерениями времени выполнения"
   ]
  },
  {
   "cell_type": "code",
   "execution_count": 1,
   "id": "harmful-settle",
   "metadata": {
    "colab": {
     "base_uri": "https://localhost:8080/",
     "height": 300
    },
    "id": "harmful-settle",
    "outputId": "bebfeecf-7379-48a5-dfa7-1f87f7687b0c"
   },
   "outputs": [
    {
     "name": "stdout",
     "output_type": "stream",
     "text": [
      "Значения колонок: [3. 2. 2. 2.]\n",
      "Названия колонок: [1.   1.75 2.5  3.25 4.  ]\n"
     ]
    },
    {
     "data": {
      "text/plain": "<Figure size 432x288 with 1 Axes>",
      "image/png": "[encoded data removed]"
     },
     "metadata": {
      "needs_background": "light"
     },
     "output_type": "display_data"
    }
   ],
   "source": [
    "import math\n",
    "import timeit\n",
    "\n",
    "# Пример гистограммы с помощью plt.hist()\n",
    "import matplotlib.pyplot as plt\n",
    "from random import randint\n",
    "import numpy as np\n",
    "\n",
    "array = [1, 1, 2, 3, 4, 1, 2, 3, 4]\n",
    "\n",
    "value_counts, bins_names, visual_figure = plt.hist(array,\n",
    "                                                   bins=len(set(array)),\n",
    "                                                   rwidth=0.9)\n",
    "# Параметр rwidth и визуализацию в своей функции реализовывать не требуется\n",
    "print('Значения колонок:', value_counts)\n",
    "print('Названия колонок:', bins_names)"
   ]
  },
  {
   "cell_type": "code",
   "execution_count": 7,
   "id": "parliamentary-worker",
   "metadata": {
    "id": "parliamentary-worker"
   },
   "outputs": [],
   "source": [
    "from typing import List, Tuple, Union\n",
    "\n",
    "\n",
    "def fast_hist(array: List[Union[int, float]],\n",
    "              bins: int) -> Tuple[List[int], List[float]]:\n",
    "    \"\"\"\n",
    "    Builds bins' labels and bins' value counts for given array\n",
    "    :param array: array with numeric values\n",
    "    :param bins:  number of bins in result distribution\n",
    "    :return: Two lists: \n",
    "             first contains value counts of each bin,\n",
    "             second contains list of bins' labels\n",
    "    \"\"\"\n",
    "    sorted_list = sorted(array)\n",
    "    r = sorted_list[-1] - sorted_list[0]\n",
    "    m = math.ceil(r / bins)\n",
    "    end = sorted_list[0] + m\n",
    "    result = [0]\n",
    "    for i in sorted_list:\n",
    "        if i <= end:\n",
    "            result[-1] += 1\n",
    "        else:\n",
    "            end += m\n",
    "            result.append(1)\n",
    "    return result"
   ]
  },
  {
   "cell_type": "code",
   "execution_count": 8,
   "outputs": [],
   "source": [
    "def test_correct(n: int, k: int):\n",
    "    lst = [randint(0, 10000) for i in range(n)]\n",
    "    fig, axs = plt.subplots(2)\n",
    "    fig.suptitle('Histogram difference')\n",
    "    axs[0].hist(lst, k)\n",
    "    axs[1].bar(list(range(k)), fast_hist(lst, k))\n",
    "\n"
   ],
   "metadata": {
    "collapsed": false
   }
  },
  {
   "cell_type": "code",
   "execution_count": 22,
   "outputs": [],
   "source": [
    "def test(n: int, k: int):\n",
    "    lst = [randint(0, 10000) for i in range(n)]\n",
    "    print(timeit.timeit(lambda: np.histogram(lst, k), number=1000))\n",
    "    print(timeit.timeit(lambda: fast_hist(lst, k), number=1000))"
   ],
   "metadata": {
    "collapsed": false
   }
  },
  {
   "cell_type": "code",
   "execution_count": 23,
   "id": "f2a7ae00",
   "metadata": {},
   "outputs": [
    {
     "name": "stdout",
     "output_type": "stream",
     "text": [
      "0.08403850000104285\n",
      "0.10670670000035898\n"
     ]
    }
   ],
   "source": [
    "test(10000, 37)"
   ]
  },
  {
   "cell_type": "code",
   "execution_count": 19,
   "outputs": [
    {
     "data": {
      "text/plain": "<Figure size 432x288 with 2 Axes>",
      "image/png": "[encoded data removed]"
     },
     "metadata": {
      "needs_background": "light"
     },
     "output_type": "display_data"
    }
   ],
   "source": [
    "test_correct(1000, 37)"
   ],
   "metadata": {
    "collapsed": false
   }
  },
  {
   "cell_type": "code",
   "execution_count": null,
   "outputs": [],
   "source": [],
   "metadata": {
    "collapsed": false
   }
  }
 ],
 "metadata": {
  "colab": {
   "collapsed_sections": [],
   "provenance": []
  },
  "kernelspec": {
   "display_name": "Python 3.10.2 64-bit",
   "language": "python",
   "name": "python3"
  },
  "language_info": {
   "codemirror_mode": {
    "name": "ipython",
    "version": 3
   },
   "file_extension": ".py",
   "mimetype": "text/x-python",
   "name": "python",
   "nbconvert_exporter": "python",
   "pygments_lexer": "ipython3",
   "version": "3.10.2"
  },
  "vscode": {
   "interpreter": {
    "hash": "15fc00f388f62a32a8de0416057bd7f2ed2e1c6ae37f8b7dfd66c8d0f1bd5353"
   }
  }
 },
 "nbformat": 4,
 "nbformat_minor": 5
}
